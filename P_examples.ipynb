{
  "nbformat": 4,
  "nbformat_minor": 0,
  "metadata": {
    "colab": {
      "provenance": [],
      "authorship_tag": "ABX9TyPCUxMWnHCZ+Sr1llMzZGLb",
      "include_colab_link": true
    },
    "kernelspec": {
      "name": "python3",
      "display_name": "Python 3"
    },
    "language_info": {
      "name": "python"
    }
  },
  "cells": [
    {
      "cell_type": "markdown",
      "metadata": {
        "id": "view-in-github",
        "colab_type": "text"
      },
      "source": [
        "<a href=\"https://colab.research.google.com/github/kigit2017/Statistics/blob/main/P_examples.ipynb\" target=\"_parent\"><img src=\"https://colab.research.google.com/assets/colab-badge.svg\" alt=\"Open In Colab\"/></a>"
      ]
    },
    {
      "cell_type": "code",
      "execution_count": null,
      "metadata": {
        "colab": {
          "base_uri": "https://localhost:8080/"
        },
        "id": "uUcbJvNCOi_4",
        "outputId": "28d02bbc-429e-41c5-d0a6-f2d9c596cdc0"
      },
      "outputs": [
        {
          "output_type": "stream",
          "name": "stdout",
          "text": [
            "Lift= 10/9\n"
          ]
        }
      ],
      "source": [
        "import numpy as np\n",
        "from fractions import Fraction\n",
        "#Task to find out the support and confidence and lift for bread and butter and bread and jam.\n",
        "\n",
        "#Bread and butter = 4/10 P(bread and butter)\n",
        "#P(A) = 9/10, P(B) = 4/10\n",
        "#P(A|B) = PA and B)/P(B)\n",
        "#confidence - P(A|B)/P(A) = P(A and B)/P(A)P(B)=4/10/ (4/10 *9/10)\n",
        "#p2 (butter) = 5/10\n",
        "#Lift = P(A and B)/P(A)P(B)\n",
        "print(\"Lift=\",Fraction(4,10)/(Fraction(9,10)*Fraction(4,10)))"
      ]
    },
    {
      "cell_type": "code",
      "source": [
        "#Q2 -> A man is known to speak the truth 2 out of 3 times. He throws a die and reports that the number obtained is a four.\n",
        " #Find the probability that the number obtained is actually  a four.\n",
        "#A is gettingto be 4\n",
        "\n",
        "#P(E1) =(rollling dice = 4) = 1/6\n",
        "#P(E2)  =(rolling non four) = 5/6\n",
        "\n",
        "#P(A|E1) = obtained a 4 or speak truth = 2/3\n",
        "#P(A|E2) = not obtained a 4            = 1/3\n",
        "\n",
        "#P(E1|A) = P(E1)P(A|E1)/((P(E2)P(A|E2) +P(E1)P(A|E1))\n",
        "print((Fraction(1,6) * Fraction(2,3))/ ((Fraction(5,6)*Fraction(1,3)) + (Fraction(1,6)*Fraction(2,3))))"
      ],
      "metadata": {
        "colab": {
          "base_uri": "https://localhost:8080/"
        },
        "id": "V_YnhThLzOHC",
        "outputId": "169052cd-6f7a-400e-b20a-8b4cde513b37"
      },
      "execution_count": null,
      "outputs": [
        {
          "output_type": "stream",
          "name": "stdout",
          "text": [
            "2/7\n"
          ]
        }
      ]
    },
    {
      "cell_type": "markdown",
      "source": [
        "Example9 Bayes theorm"
      ],
      "metadata": {
        "id": "IkyB9EJTEiip"
      }
    },
    {
      "cell_type": "code",
      "source": [
        "P1       =  0.04 # prob. of defective item manufactured by X\n",
        "P2       =  0.75\n",
        "P3       =  0.75 * 0.04 + 0.15 * 0.06 + 0.10 * 0.08\n",
        "P        =  round((P1 * P2)/P3,4)\n",
        "print('P(X|D)  is %1.4f' % P)\n",
        "print((75 /100 * 4/100) /((75/100 *4/100) + (15/100 *6/100) + (10/100 * 8/100)))"
      ],
      "metadata": {
        "colab": {
          "base_uri": "https://localhost:8080/"
        },
        "id": "m5sKHPae_ByX",
        "outputId": "eacf6e07-8c32-4850-f0e0-d64dad848038"
      },
      "execution_count": null,
      "outputs": [
        {
          "output_type": "stream",
          "name": "stdout",
          "text": [
            "P(X|D)  is 0.6383\n",
            "0.6382978723404255\n"
          ]
        }
      ]
    },
    {
      "cell_type": "code",
      "source": [
        "## Let P = P(T∣A)\n",
        "P = (0.9 * 0.01) / ((0.9 * 0.01) + (0.08 * 0.99))\n",
        "print('The probability of a women having cancer, given a positive test result is %1.4f' % P)\n",
        "print((1/100 * 90/100 )/((90/100 * 1/100 )+ (8/100 * 99/100 )))\n"
      ],
      "metadata": {
        "colab": {
          "base_uri": "https://localhost:8080/"
        },
        "id": "rTKe3CwkHtJA",
        "outputId": "c001a448-7627-471f-cc33-c1a9d3b7beb0"
      },
      "execution_count": null,
      "outputs": [
        {
          "output_type": "stream",
          "name": "stdout",
          "text": [
            "The probability of a women having cancer, given a positive test result is 0.1020\n",
            "0.10204081632653063\n"
          ]
        }
      ]
    },
    {
      "cell_type": "code",
      "source": [
        "#P(T) = 40/100 P(U) 60/100)\n",
        "#P(S) = 80/100 P(US) = 20/100\n",
        "print(\"Television is successful given a favorible report is \" , (80/100 * 40/100)/((80/100 * 40/100)+ (30/100 * 60/100)))\n",
        "\n",
        "P = (0.80 * 0.40)/ ((0.80 * 0.40) + (0.30 * 0.60))\n",
        "print('The probability that the television is successful given a favorable report is %1.4f' % P)"
      ],
      "metadata": {
        "colab": {
          "base_uri": "https://localhost:8080/"
        },
        "id": "4he2x__TPdaD",
        "outputId": "3a3e9c2d-84f1-49c4-8638-72f6ba3748ba"
      },
      "execution_count": null,
      "outputs": [
        {
          "output_type": "stream",
          "name": "stdout",
          "text": [
            "Television is successful given a favorible report is  0.64\n",
            "The probability that the television is successful given a favorable report is 0.6400\n"
          ]
        }
      ]
    },
    {
      "cell_type": "markdown",
      "source": [
        "P(D) = 0.03 P(D') = 0.97 P(T|D) = 0.90 P(T|D') = 0.01\n",
        "\n",
        "Practise 5"
      ],
      "metadata": {
        "id": "6yAQlTWVSQ-r"
      }
    },
    {
      "cell_type": "code",
      "source": [
        "#P(D|T) = P(D)*P(T|D)/(P(D)*P(T|D) + P(D')*P(T|D') )\n",
        "print((.03 *.90)/(.03 *.90 )+ (.97 *.01))"
      ],
      "metadata": {
        "colab": {
          "base_uri": "https://localhost:8080/"
        },
        "id": "sobRbVD0SVKv",
        "outputId": "2b608c73-7598-4f25-ac42-1c10278ac9f1"
      },
      "execution_count": null,
      "outputs": [
        {
          "output_type": "stream",
          "name": "stdout",
          "text": [
            "1.0097\n"
          ]
        }
      ]
    }
  ]
}