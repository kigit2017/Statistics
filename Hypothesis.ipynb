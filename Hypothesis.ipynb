{
  "nbformat": 4,
  "nbformat_minor": 0,
  "metadata": {
    "colab": {
      "provenance": [],
      "authorship_tag": "ABX9TyOUXO0QD/Bu2EOkzI3QHTmv",
      "include_colab_link": true
    },
    "kernelspec": {
      "name": "python3",
      "display_name": "Python 3"
    },
    "language_info": {
      "name": "python"
    }
  },
  "cells": [
    {
      "cell_type": "markdown",
      "metadata": {
        "id": "view-in-github",
        "colab_type": "text"
      },
      "source": [
        "<a href=\"https://colab.research.google.com/github/kigit2017/Statistics/blob/main/Hypothesis.ipynb\" target=\"_parent\"><img src=\"https://colab.research.google.com/assets/colab-badge.svg\" alt=\"Open In Colab\"/></a>"
      ]
    },
    {
      "cell_type": "code",
      "source": [
        "!pip3 install scipy"
      ],
      "metadata": {
        "colab": {
          "base_uri": "https://localhost:8080/"
        },
        "id": "wnA6nFbJi-t8",
        "outputId": "782f4000-8561-48f0-da03-8c0be6f9e3aa"
      },
      "execution_count": null,
      "outputs": [
        {
          "output_type": "stream",
          "name": "stdout",
          "text": [
            "Looking in indexes: https://pypi.org/simple, https://us-python.pkg.dev/colab-wheels/public/simple/\n",
            "Requirement already satisfied: scipy in /usr/local/lib/python3.10/dist-packages (1.10.1)\n",
            "Requirement already satisfied: numpy<1.27.0,>=1.19.5 in /usr/local/lib/python3.10/dist-packages (from scipy) (1.22.4)\n"
          ]
        }
      ]
    },
    {
      "cell_type": "code",
      "execution_count": null,
      "metadata": {
        "colab": {
          "base_uri": "https://localhost:8080/"
        },
        "id": "uC1q6sFSff-F",
        "outputId": "36ff3b61-60d8-41d2-a115-adf0cce2b991"
      },
      "outputs": [
        {
          "output_type": "stream",
          "name": "stdout",
          "text": [
            "1.96\n",
            "Value of z is 0.0004714045207909798142557\n"
          ]
        }
      ],
      "source": [
        "import numpy as np\n",
        "import scipy.stats as stats\n",
        "mu = 2\n",
        "n = 50 # sample mean\n",
        "xbar = 2.001\n",
        "sigma = 15 #population mean\n",
        "\n",
        "#step1\n",
        "#company spec is mean volume = 2 litres\n",
        "# Null hyothesis - mean volume = 2 litres = H0mu = 2\n",
        "#alternate hypothesis - mean volume != 2 litres HA:mu != 2\n",
        "\n",
        "#step2\n",
        "alpha = .05 # Type 1 and 2 errors\n",
        "\n",
        "print(np.abs(round(stats.norm.isf(q=.025),2)))\n",
        "#Interval -s -1.96 to 1.96 for .05 alpha\n",
        "\n",
        "# zstat < -1.96 or > 1.96 - rejected\n",
        "#accepted is -1.96 < zstat < 1.96\n",
        "\n",
        "z = (xbar - mu)/(sigma/np.sqrt(n))\n",
        "print('Value of z is %2.25f' %z)\n",
        "\n",
        "print(\"Since  lies in acceptance -1.96 <z < 1.96 Null hypothess is true or not rejected\")\n",
        "\n"
      ]
    },
    {
      "cell_type": "code",
      "source": [
        "import numpy as np\n",
        "z = (115 - 100)/(15/np.sqrt(100))\n",
        "print('Value of z is %2.25f' %z)\n",
        "#students IQ <- pop mean 100 -null H0\n",
        "#students IQ > pop mean 100 - HA\n",
        "print(\"since z lies in the rejection area the null hypothesis is rejected and student IQ  is above average\")"
      ],
      "metadata": {
        "colab": {
          "base_uri": "https://localhost:8080/"
        },
        "id": "yneazxm7AcDr",
        "outputId": "ae4387b1-cbff-437e-883f-2e979b9066b8"
      },
      "execution_count": null,
      "outputs": [
        {
          "output_type": "stream",
          "name": "stdout",
          "text": [
            "Value of z is 10.0000000000000000000000000\n",
            "since z lies in the rejection area the null hypothesis is rejected and student IQ  is above average\n"
          ]
        }
      ]
    },
    {
      "cell_type": "code",
      "source": [
        "temperature = np.array([98.56, 98.66, 97.54, 98.71, 99.22, 99.49, 98.14, 98.84,\\\n",
        "                         99.28, 98.48, 98.88, 97.29, 98.88, 99.07, 98.81, 99.49,\\\n",
        "                         98.57, 97.98, 97.75, 97.69, 99.28, 98.52, 98.82, 98.81, 98.22])\n",
        "print('Mean is %2.1f Sd is %2.1f' % (temperature.mean(),np.std(temperature,ddof = 1)))\n"
      ],
      "metadata": {
        "colab": {
          "base_uri": "https://localhost:8080/"
        },
        "id": "W5qT8IF_kF9T",
        "outputId": "b658a7c5-41fa-4b2b-a348-efcacaf6ce47"
      },
      "execution_count": null,
      "outputs": [
        {
          "output_type": "stream",
          "name": "stdout",
          "text": [
            "Mean is 98.6 Sd is 0.6\n"
          ]
        }
      ]
    },
    {
      "cell_type": "code",
      "source": [],
      "metadata": {
        "id": "1lo8X0jmBMlY"
      },
      "execution_count": null,
      "outputs": []
    },
    {
      "cell_type": "code",
      "source": [
        "import numpy as np\n",
        "import scipy.stats as stats\n",
        "mu = 15\n",
        "n = 50 # sample requests\n",
        "xbar = 14 # sample mean\n",
        "sigma = 1.6 #population mean\n",
        "\n",
        "#Hypothesis\n",
        "#population mean = 15 - null\n",
        "#population mean != 15 - accepted\n",
        "\n",
        "z = (xbar -mu)/(sigma/np.sqrt(n))\n",
        "print('Value of z is %2.25f' %z)\n",
        "print(\"ALTERNATE HYPOTHESIS IS TRUE\")\n",
        "print(\"since z liest in the < - 1.96(5 percent level, null hypothesis is rejected,alt hypothesis is true and mean service time has changed from 15 minutes')  \")"
      ],
      "metadata": {
        "colab": {
          "base_uri": "https://localhost:8080/"
        },
        "id": "drMuahOol65U",
        "outputId": "d45cfa60-efac-43f4-b672-a539ce6ccc56"
      },
      "execution_count": null,
      "outputs": [
        {
          "output_type": "stream",
          "name": "stdout",
          "text": [
            "Value of z is -4.4194173824159221908303152\n",
            "ALTERNATE HYPOTHESIS IS TRUE\n",
            "since z liest in the < - 1.96(5 percent level, null hypothesis is rejected,alt hypothesis is true and mean service time has changed from 15 minutes')  \n"
          ]
        }
      ]
    },
    {
      "cell_type": "code",
      "source": [
        "#ex2\n",
        "import numpy as np\n",
        "import scipy as stats\n",
        "#One sample t test\n",
        "from scipy.stats import ttest_1samp,ttest_ind, wilcoxon\n",
        "from statsmodels.stats.power import ttest_power\n",
        "import matplotlib.pyplot     as     plt\n",
        "\n",
        "temperature = np.array([98.56, 98.66, 97.54, 98.71, 99.22, 99.49, 98.14, 98.84,\\\n",
        "                         99.28, 98.48, 98.88, 97.29, 98.88, 99.07, 98.81, 99.49,\\\n",
        "                         98.57, 97.98, 97.75, 97.69, 99.28, 98.52, 98.82, 98.81, 98.22])\n",
        "print('Mean is %2.1f Sd is %2.1f' % (temperature.mean(),np.std(temperature,ddof = 1)))\n",
        "#null H0 Student temp <= 98.6\n",
        "#Alternate hy HA temp> 98.6\n",
        "xbar = temperature.mean()\n",
        "xbar\n",
        "sigma = np.std(temperature,ddof = 1)\n",
        "n = 25\n",
        "mu = 98.6\n",
        "sigma = .6\n",
        "z = (xbar -mu)/(sigma/np.sqrt(n))\n",
        "#print(\"%2.1f\" %z)\n",
        "t_statistic, p_value = ttest_1samp(temperature, 98.6)#98.9 is expected temp of student\n",
        "print(t_statistic, p_value)\n",
        "print(\"p value < 5% and we reject nul hypothesis,so body temp > 98.6 according to alternate hypothesis\")\n",
        "\n",
        "\n"
      ],
      "metadata": {
        "id": "TD54MnNvjHFT",
        "colab": {
          "base_uri": "https://localhost:8080/"
        },
        "outputId": "e017c75d-82aa-45fd-82e7-3901677e63b7"
      },
      "execution_count": null,
      "outputs": [
        {
          "output_type": "stream",
          "name": "stdout",
          "text": [
            "Mean is 98.6 Sd is 0.6\n",
            "-0.006668602694974534 0.9947343867528586\n",
            "p value < 5% and we reject nul hypothesis,so body temp > 98.6 according to alternate hypothesis\n"
          ]
        }
      ]
    },
    {
      "cell_type": "code",
      "source": [
        "#Practise 1\n",
        "import numpy as np\n",
        "#H0 = intake_sugar<= 7600\n",
        "#HA = intake > 7600\n",
        "daily_intake = np.array([5560, 5770, 7640, 5180, 5690, 6435, 6803, 7689, 6876, 8213, 8765])\n",
        "mu = 7600\n",
        "xbar = daily_intake.mean()\n",
        "t_statistic, p_value = ttest_1samp(daily_intake,xbar)\n",
        "print(t_statistic, p_value)\n"
      ],
      "metadata": {
        "colab": {
          "base_uri": "https://localhost:8080/"
        },
        "id": "iBVW-xwvFT4q",
        "outputId": "605b1f91-a4a8-4f72-a122-ecd8b275ec3c"
      },
      "execution_count": null,
      "outputs": [
        {
          "output_type": "stream",
          "name": "stdout",
          "text": [
            "0.0 1.0\n"
          ]
        }
      ]
    },
    {
      "cell_type": "code",
      "source": [],
      "metadata": {
        "id": "wMVnbz_bF752"
      },
      "execution_count": null,
      "outputs": []
    }
  ]
}