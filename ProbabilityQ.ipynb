{
  "nbformat": 4,
  "nbformat_minor": 0,
  "metadata": {
    "colab": {
      "provenance": [],
      "authorship_tag": "ABX9TyMlaTb8m7SqJxxnpt77Wv6K",
      "include_colab_link": true
    },
    "kernelspec": {
      "name": "python3",
      "display_name": "Python 3"
    },
    "language_info": {
      "name": "python"
    }
  },
  "cells": [
    {
      "cell_type": "markdown",
      "metadata": {
        "id": "view-in-github",
        "colab_type": "text"
      },
      "source": [
        "<a href=\"https://colab.research.google.com/github/kigit2017/Statistics/blob/main/ProbabilityQ.ipynb\" target=\"_parent\"><img src=\"https://colab.research.google.com/assets/colab-badge.svg\" alt=\"Open In Colab\"/></a>"
      ]
    },
    {
      "cell_type": "code",
      "execution_count": null,
      "metadata": {
        "id": "KUo0xQyD0CLH"
      },
      "outputs": [],
      "source": [
        " Two coins are tossed 500 times, and we get:\n",
        "\n",
        "Two heads: 105 times\n",
        "\n",
        "One head: 275 times\n",
        "\n",
        "No head: 120 times\n",
        "\n",
        "Find the probability of each event to occur\n"
      ]
    },
    {
      "cell_type": "code",
      "source": [
        "#P(2 heads(one time) in coins) = 1/4\n",
        "#P(105 times) = 1/4*105 = 26.25 percent\n",
        "\n",
        "print(\"Probability of event of 2 heads 105 times:\",105/500)\n",
        "print(\"Probability of event of 1 head 275 times:\",275/500)\n",
        "print(\"Probability of event of no head 120 times:\",120/500)\n",
        "print()"
      ],
      "metadata": {
        "colab": {
          "base_uri": "https://localhost:8080/"
        },
        "id": "ePoiibmJ0KNn",
        "outputId": "f2d23bbd-df81-482f-a001-a7a1799cd9cf"
      },
      "execution_count": null,
      "outputs": [
        {
          "output_type": "stream",
          "name": "stdout",
          "text": [
            "Probability of event of 2 heads 105 times: 0.21\n",
            "Probability of event of 1 head 275 times: 0.55\n",
            "Probability of event of no head 120 times: 0.24\n",
            "\n"
          ]
        }
      ]
    },
    {
      "cell_type": "code",
      "source": [
        "print(\"Tyre substituted before 4K\",20/1000)\n",
        "print(\"prob it will last more than 9 k\",(325+445)/1000)\n",
        "print(\"Prob it has to be replaces after 4K and 14k\",(210+325)/1000)\n"
      ],
      "metadata": {
        "colab": {
          "base_uri": "https://localhost:8080/"
        },
        "id": "BK-oUX9c5szr",
        "outputId": "1b80d91b-fa5f-4ec2-865c-5c44f52b5a4b"
      },
      "execution_count": null,
      "outputs": [
        {
          "output_type": "stream",
          "name": "stdout",
          "text": [
            "Tyre substituted before 4K 0.02\n",
            "prob it will last more than 9 k 0.77\n",
            "Prob it has to be replaces after 4K and 14k 0.535\n"
          ]
        }
      ]
    },
    {
      "cell_type": "code",
      "source": [
        "#Q2\n",
        "print(\"Prob of students getting more than 70 per),\",3/5)"
      ],
      "metadata": {
        "colab": {
          "base_uri": "https://localhost:8080/"
        },
        "id": "y8AaPd9y7X7B",
        "outputId": "6bb1b036-b232-4044-e8d8-d0f07368d980"
      },
      "execution_count": null,
      "outputs": [
        {
          "output_type": "stream",
          "name": "stdout",
          "text": [
            "Prob of students getting more than 70 per), 0.6\n"
          ]
        }
      ]
    },
    {
      "cell_type": "code",
      "source": [
        "#Q4\n",
        "print(\"Card will be an Ace 1/13\") #a pack has 4 Aces for favorible outcome\n",
        "print(\"Card will not be an Ace 12/13\")# 52 -4 = 48 favorible outcome out of 52 possible outcome"
      ],
      "metadata": {
        "colab": {
          "base_uri": "https://localhost:8080/"
        },
        "id": "pnbSVDh18VNP",
        "outputId": "8be6483e-2a00-4e1e-e6d7-7305ff4c3138"
      },
      "execution_count": null,
      "outputs": [
        {
          "output_type": "stream",
          "name": "stdout",
          "text": [
            "Card will be an Ace 1/13\n",
            "Card will not be an Ace 12/13\n"
          ]
        }
      ]
    },
    {
      "cell_type": "code",
      "source": [
        "#Q5\n",
        "print(\"Probability that Rashmi will win(100 -P(sangeet) is .38\")"
      ],
      "metadata": {
        "colab": {
          "base_uri": "https://localhost:8080/"
        },
        "id": "_4XtHkGJ_Bho",
        "outputId": "48e9a422-b6c0-4dc0-9454-83ed9e308b29"
      },
      "execution_count": null,
      "outputs": [
        {
          "output_type": "stream",
          "name": "stdout",
          "text": [
            "Probability that Rashmi will win(100 -P(sangeet) is .38\n"
          ]
        }
      ]
    },
    {
      "cell_type": "code",
      "source": [
        "#Q8\n",
        "# prime E1= {2,3,5}\n",
        "#Even E2 = {1,3,5}\n",
        "#A or B = A Union B = {1,2,3,5}\n",
        "print(\"Getting a prim or getting and odd - {1,2,3,5}\")\n",
        "print(\"E(A and B) is  - A intesect B {3,5}\")\n",
        "print(\"A but not B = A - B {2}\")\n",
        "print(\"not A is = A' = {1,4,6}\")"
      ],
      "metadata": {
        "colab": {
          "base_uri": "https://localhost:8080/"
        },
        "id": "OTU8xpNx_20F",
        "outputId": "96692414-a778-4c4c-d45f-ffc8ff4009c1"
      },
      "execution_count": null,
      "outputs": [
        {
          "output_type": "stream",
          "name": "stdout",
          "text": [
            "Getting a prim or getting and odd - {1,2,3,5}\n",
            "E(A and B) is  - A intesect B {3,5}\n",
            "A but not B = A - B {2}\n",
            "not A is = A' = {1,4,6}\n"
          ]
        }
      ]
    },
    {
      "cell_type": "code",
      "source": [
        "#Q9\n",
        "print(\"P- no head appears is {'TTT}\")\n",
        "print(\"Q- Exactly one head appears is {'THT','HTT','TTH'}\")\n",
        "print(\"R -At least 2 heads appear is {'HHT','THH','HTH'}\")\n",
        "print({'S -', 'HHT','THH','HTH','THT','HTT','TTH','TTT','HHH'})\n",
        "print(\"P,Q,R are mutually exclusive events no P ,Q,R intersections is a null set\")\n",
        "print(\"P,Q,R are exhaustive events  because P union Q union R  is S\")"
      ],
      "metadata": {
        "colab": {
          "base_uri": "https://localhost:8080/"
        },
        "id": "nVHHrA1NEJ-k",
        "outputId": "b693b960-7aa4-4f3e-de0b-017220c0dad8"
      },
      "execution_count": null,
      "outputs": [
        {
          "output_type": "stream",
          "name": "stdout",
          "text": [
            "P- no head appears is {'TTT}\n",
            "Q- Exactly one head appears is {'THT','HTT','TTH'}\n",
            "R -At least 2 heads appear is {'HHT','THH','HTH'}\n",
            "{'THT', 'HTH', 'TTH', 'HHT', 'HHH', 'HTT', 'S -', 'THH', 'TTT'}\n",
            "P,Q,R are mutually exclusive events no P ,Q,R intersections is a null set\n",
            "P,Q,R are exhaustive events  because P union Q union R  is S\n"
          ]
        }
      ]
    },
    {
      "cell_type": "code",
      "source": [
        "import numpy as np\n",
        "from fractions import Fraction\n",
        "\n",
        "#Q10. If P(A) = 7/13, P(B) = 9/13 and P(A∩B) = 4/13, evaluate P(A|B).\n",
        "#P(A|B) = P(AintersectB)/P(B)\n",
        " # (4/13)/(9/13)\n",
        "print(\"P(A|B) -\",Fraction(4,13)/Fraction(9,13))"
      ],
      "metadata": {
        "colab": {
          "base_uri": "https://localhost:8080/"
        },
        "id": "-64AD-ZbKzMH",
        "outputId": "e4718b60-b4e3-4a6b-a56b-1f769a363e4a"
      },
      "execution_count": null,
      "outputs": [
        {
          "output_type": "stream",
          "name": "stdout",
          "text": [
            "3.076923076923077\n",
            "6.923076923076923\n",
            "P(A|B) - 4/9\n"
          ]
        }
      ]
    }
  ]
}